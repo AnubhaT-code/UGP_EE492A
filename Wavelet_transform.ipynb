{
  "nbformat": 4,
  "nbformat_minor": 0,
  "metadata": {
    "colab": {
      "provenance": []
    },
    "kernelspec": {
      "name": "python3",
      "display_name": "Python 3"
    },
    "language_info": {
      "name": "python"
    }
  },
  "cells": [
    {
      "cell_type": "code",
      "execution_count": 1,
      "metadata": {
        "id": "HGi0OTMekOpN"
      },
      "outputs": [],
      "source": [
        "import os\n",
        "import numpy as np\n",
        "import pandas as pd\n",
        "import matplotlib.pyplot as plt\n",
        "import cv2 as cv\n",
        "from google.colab.patches import cv2_imshow\n",
        "import cv2\n",
        "import pywt"
      ]
    },
    {
      "cell_type": "code",
      "source": [
        "from google.colab import drive\n",
        "drive.mount('/content/drive', force_remount=True)"
      ],
      "metadata": {
        "colab": {
          "base_uri": "https://localhost:8080/"
        },
        "id": "kZ3RdYtzkTd3",
        "outputId": "f07c5238-e756-4999-dc56-744b7118922e"
      },
      "execution_count": 2,
      "outputs": [
        {
          "output_type": "stream",
          "name": "stdout",
          "text": [
            "Mounted at /content/drive\n"
          ]
        }
      ]
    },
    {
      "cell_type": "code",
      "source": [
        "image_path = \"/content/drive/MyDrive/UGP_EE492A/PSO_results/images/1.jpg\""
      ],
      "metadata": {
        "id": "vEsEaNd4kYGB"
      },
      "execution_count": 3,
      "outputs": []
    },
    {
      "cell_type": "code",
      "source": [
        "image = cv2.imread(image_path)"
      ],
      "metadata": {
        "id": "HpZnbUVxkYDZ"
      },
      "execution_count": 4,
      "outputs": []
    },
    {
      "cell_type": "code",
      "source": [
        "def extract_HSV(image):\n",
        "    # Convert the image from BGR to RGB (if it's in BGR format)\n",
        "    rgb_image = cv2.cvtColor(image, cv2.COLOR_BGR2RGB)\n",
        "\n",
        "    # Convert the RGB image to HSV\n",
        "    hsv_image = cv2.cvtColor(rgb_image, cv2.COLOR_RGB2HSV)\n",
        "\n",
        "    # Extract H, S, V components\n",
        "    H = hsv_image[:, :, 0]\n",
        "    S = hsv_image[:, :, 1]\n",
        "    V = hsv_image[:, :, 2]\n",
        "    return H, S, V"
      ],
      "metadata": {
        "id": "ZHTgbDeRk1Sp"
      },
      "execution_count": 5,
      "outputs": []
    },
    {
      "cell_type": "code",
      "source": [
        "def combine_HSV(H, S, V):\n",
        "    # Combine H, S, V components to form HSV image\n",
        "    hsv_image = np.zeros((H.shape[0], H.shape[1], 3))\n",
        "    hsv_image[:, :, 0] = H\n",
        "    hsv_image[:, :, 1] = S\n",
        "    hsv_image[:, :, 2] = V\n",
        "    return hsv_image"
      ],
      "metadata": {
        "id": "cnYnZnDZo89n"
      },
      "execution_count": 6,
      "outputs": []
    },
    {
      "cell_type": "code",
      "source": [
        "def lifting_dwt2(image, wavelet):\n",
        "    # Apply lifting DWT to each channel separately\n",
        "    # print(image.shape)\n",
        "    (LL, (LH, HL, HH)) = pywt.dwt2(image, wavelet)\n",
        "    return LL, LH, HL, HH"
      ],
      "metadata": {
        "id": "76aA70Yvo841"
      },
      "execution_count": 7,
      "outputs": []
    },
    {
      "cell_type": "code",
      "source": [
        "def reconstruct_image(LL, LH, HL, HH, wavelet):\n",
        "    # Determine the minimum dimensions along each axis\n",
        "    min_rows = min(LL.shape[0], LH.shape[0], HL.shape[0], HH.shape[0])\n",
        "    min_cols = min(LL.shape[1], LH.shape[1], HL.shape[1], HH.shape[1])\n",
        "\n",
        "    # Resize or reshape the bands to have the same dimensions\n",
        "    LL = LL[:min_rows, :min_cols]\n",
        "    LH = LH[:min_rows, :min_cols]\n",
        "    HL = HL[:min_rows, :min_cols]\n",
        "    HH = HH[:min_rows, :min_cols]\n",
        "\n",
        "    # Organize LL, LH, HL, and HH bands into a dictionary\n",
        "    coeffs = {'aa': LL, 'ad': LH, 'da': HL, 'dd': HH}\n",
        "    # Reconstruct the image using inverse lifting DWT\n",
        "    reconstructed_image = pywt.idwtn(coeffs, wavelet)\n",
        "    # Clip pixel values to ensure they are within the valid range\n",
        "    reconstructed_image = np.clip(reconstructed_image, 0, 255)\n",
        "    # Convert the image to uint8 data type\n",
        "    reconstructed_image = reconstructed_image.astype(np.uint8)\n",
        "    return reconstructed_image"
      ],
      "metadata": {
        "id": "d6dleUSlo8qu"
      },
      "execution_count": 8,
      "outputs": []
    },
    {
      "cell_type": "code",
      "source": [
        "# Define a function to apply inverse lifting DWT to an image\n",
        "def inverse_lifting_dwt_image(coeffs, wavelet):\n",
        "    # Inverse lifting DWT for each channel separately\n",
        "    channels = []\n",
        "    for coeffs_channel in coeffs:\n",
        "        # Apply inverse DWT\n",
        "        channel_image = pywt.idwt2(coeffs_channel, wavelet, mode=mode, level=decomposition_levels, axis=(-2, -1), output_format='convolution')\n",
        "        channels.append(channel_image)\n",
        "    # Stack the channels to form the final image\n",
        "    return np.stack(channels, axis=2)"
      ],
      "metadata": {
        "id": "LrzrhubcxoyW"
      },
      "execution_count": 9,
      "outputs": []
    },
    {
      "cell_type": "code",
      "source": [
        "# Define wavelet\n",
        "wavelet = 'db4'\n",
        "mode = 'symmetric'\n",
        "decomposition_levels = 2"
      ],
      "metadata": {
        "id": "ax_7GaPcp1K0"
      },
      "execution_count": 10,
      "outputs": []
    },
    {
      "cell_type": "code",
      "source": [
        "# Extract H, S, V components from RGB image\n",
        "H, S, V = extract_HSV(image)"
      ],
      "metadata": {
        "id": "XcqVVlDUp1H8"
      },
      "execution_count": 11,
      "outputs": []
    },
    {
      "cell_type": "code",
      "source": [
        "# Apply lifting DWT to S and V components\n",
        "coeffs_S = lifting_dwt2(S, wavelet)\n",
        "coeffs_V = lifting_dwt2(V, wavelet)"
      ],
      "metadata": {
        "id": "IC79VQ_Bp1D8"
      },
      "execution_count": 12,
      "outputs": []
    },
    {
      "cell_type": "code",
      "source": [
        "# Apply lifting DWT to S and V components\n",
        "LL_S, LH_S, HL_S, HH_S = lifting_dwt2(S, wavelet)\n",
        "LL_V, LH_V, HL_V, HH_V = lifting_dwt2(V, wavelet)"
      ],
      "metadata": {
        "id": "UHvpPMJeqFLc"
      },
      "execution_count": 13,
      "outputs": []
    },
    {
      "cell_type": "code",
      "source": [
        "def resize_LL(LL_band, original_shape):\n",
        "    resized_LL = cv2.resize(LL_band, (original_shape[1], original_shape[0]), interpolation=cv2.INTER_LINEAR)\n",
        "    return resized_LL"
      ],
      "metadata": {
        "id": "TGaUlvvpqFJD"
      },
      "execution_count": 14,
      "outputs": []
    },
    {
      "cell_type": "code",
      "source": [
        "# Resize LL bands to match the original image size\n",
        "resized_LL_S = resize_LL(LL_S, image.shape)\n",
        "resized_LL_V = resize_LL(LL_V, image.shape)"
      ],
      "metadata": {
        "id": "M1K9bSWLqFGb"
      },
      "execution_count": 15,
      "outputs": []
    },
    {
      "cell_type": "code",
      "source": [
        "def linear_contrast_stretching(image, min_output=0, max_output=255):\n",
        "    # Compute min and max pixel values of the input image\n",
        "    min_input = np.min(image)\n",
        "    max_input = np.max(image)\n",
        "\n",
        "    # Apply linear contrast stretching equation\n",
        "    stretched_image = ((image - min_input) / (max_input - min_input)) * (max_output - min_output) + min_output\n",
        "\n",
        "    # Clip pixel values to ensure they are within the output range\n",
        "    stretched_image = np.clip(stretched_image, min_output, max_output)\n",
        "\n",
        "    return stretched_image.astype(np.uint8)"
      ],
      "metadata": {
        "id": "RJ4x4g7MqFDv"
      },
      "execution_count": 16,
      "outputs": []
    },
    {
      "cell_type": "code",
      "source": [
        "# Apply linear contrast stretching to LL bands\n",
        "stretched_LL_S = linear_contrast_stretching(resized_LL_S)\n",
        "stretched_LL_V = linear_contrast_stretching(resized_LL_V)"
      ],
      "metadata": {
        "id": "MX5lUTJFtu9A"
      },
      "execution_count": 17,
      "outputs": []
    },
    {
      "cell_type": "code",
      "source": [
        "def laplacian_edge_detection(image):\n",
        "    # Convert the image to grayscale if it's not already\n",
        "    if len(image.shape) > 2:\n",
        "        grayscale_image = cv2.cvtColor(image, cv2.COLOR_BGR2GRAY)\n",
        "    else:\n",
        "        grayscale_image = image\n",
        "\n",
        "    # Apply Laplacian filter\n",
        "    laplacian = cv2.Laplacian(grayscale_image, cv2.CV_64F)\n",
        "\n",
        "    # Convert the result to the absolute values\n",
        "    laplacian = np.abs(laplacian)\n",
        "\n",
        "    # Normalize the result to the range [0, 255]\n",
        "    laplacian = cv2.normalize(laplacian, None, 0, 255, cv2.NORM_MINMAX, dtype=cv2.CV_8U)\n",
        "\n",
        "    return laplacian"
      ],
      "metadata": {
        "id": "KoG3u3-gtu6Z"
      },
      "execution_count": 18,
      "outputs": []
    },
    {
      "cell_type": "code",
      "source": [
        "# Apply Laplacian edge detection to stretched LL bands\n",
        "edges_LL_S = laplacian_edge_detection(stretched_LL_S)\n",
        "edges_LL_V = laplacian_edge_detection(stretched_LL_V)\n",
        "\n",
        "# cv2_imshow(edges_LL_V)"
      ],
      "metadata": {
        "id": "mrzkCop7tu4K"
      },
      "execution_count": 19,
      "outputs": []
    },
    {
      "cell_type": "code",
      "source": [
        "def image_sharpening(original_image, edges_image):\n",
        "    # Ensure both images have the same data type\n",
        "    original_image = original_image.astype(np.float32)\n",
        "    edges_image = edges_image.astype(np.float32)\n",
        "\n",
        "    # Subtract Laplacian edges from original image\n",
        "    sharpened_image = np.clip(original_image - edges_image, 0, 255)\n",
        "\n",
        "    return sharpened_image.astype(np.uint8)"
      ],
      "metadata": {
        "id": "qJkxg0QyuT9R"
      },
      "execution_count": 20,
      "outputs": []
    },
    {
      "cell_type": "code",
      "source": [
        "# Function to apply histogram equalization to an RGB image\n",
        "def apply_histogram_equalization_rgb(image):\n",
        "    # Split the image into individual channels\n",
        "    channels = cv2.split(image)\n",
        "\n",
        "    # Apply histogram equalization to each channel\n",
        "    equalized_channels = []\n",
        "    for channel in channels:\n",
        "        equalized_channels.append(cv2.equalizeHist(channel))\n",
        "\n",
        "    # Merge the equalized channels back into an RGB image\n",
        "    equalized_image = cv2.merge(equalized_channels)\n",
        "\n",
        "    return equalized_image\n"
      ],
      "metadata": {
        "id": "v6n46i-aOQNo"
      },
      "execution_count": 21,
      "outputs": []
    },
    {
      "cell_type": "code",
      "source": [
        "# Perform image sharpening by subtracting Laplacian edges from original image\n",
        "sharpened_LL_S = image_sharpening(resized_LL_S, edges_LL_S)\n",
        "sharpened_LL_V = image_sharpening(resized_LL_V, edges_LL_V)"
      ],
      "metadata": {
        "id": "1SiGN7DvuT7Z"
      },
      "execution_count": 22,
      "outputs": []
    },
    {
      "cell_type": "code",
      "source": [
        "# Resize LL bands to match the original image size\n",
        "LL_S_new = resize_LL(sharpened_LL_S, LL_S.shape)\n",
        "LL_V_new = resize_LL(sharpened_LL_V, LL_V.shape)"
      ],
      "metadata": {
        "id": "s4crvq-VvSD_"
      },
      "execution_count": 23,
      "outputs": []
    },
    {
      "cell_type": "code",
      "source": [],
      "metadata": {
        "id": "C4nc87YMvSBA"
      },
      "execution_count": 23,
      "outputs": []
    },
    {
      "cell_type": "code",
      "source": [
        "coeffs_S_new = (LL_S_new, (LH_S, HL_S, HH_S))\n",
        "coeffs_V_new = (LL_V_new, (LH_V, HL_V, HH_V))"
      ],
      "metadata": {
        "id": "RMLwUsibuT2p"
      },
      "execution_count": 24,
      "outputs": []
    },
    {
      "cell_type": "code",
      "source": [],
      "metadata": {
        "id": "YJPyF1TOgiid"
      },
      "execution_count": 24,
      "outputs": []
    },
    {
      "cell_type": "code",
      "source": [
        "# Reconstruct S and V components using inverse lifting DWT\n",
        "reconstructed_S = reconstruct_image(LL_S_new, LH_S, HL_S, HH_S, wavelet)\n",
        "reconstructed_V = reconstruct_image(LL_V_new, LH_V, HL_V, HH_V, wavelet)"
      ],
      "metadata": {
        "id": "qFAlr80aqFAk"
      },
      "execution_count": 25,
      "outputs": []
    },
    {
      "cell_type": "code",
      "source": [
        "# Combine H, reconstructed S, and reconstructed V components to form the reconstructed HSV image\n",
        "reconstructed_hsv_image = combine_HSV(H, reconstructed_S, reconstructed_V)"
      ],
      "metadata": {
        "id": "99fE5gXCqKLU"
      },
      "execution_count": 26,
      "outputs": []
    },
    {
      "cell_type": "code",
      "source": [
        "# Convert HSV image back to RGB\n",
        "reconstructed_rgb_image = cv2.cvtColor(reconstructed_hsv_image.astype('uint8'), cv2.COLOR_HSV2BGR)"
      ],
      "metadata": {
        "id": "n_PrvnXCfm6z"
      },
      "execution_count": 27,
      "outputs": []
    },
    {
      "cell_type": "code",
      "source": [
        "dir_path = '/content/drive/MyDrive/UGP_EE492A/PSO_results/images/'\n",
        "output_path =  '/content/drive/MyDrive/UGP_EE492A/PSO_results/results/'"
      ],
      "metadata": {
        "id": "dudsTQrzfm-V"
      },
      "execution_count": 28,
      "outputs": []
    },
    {
      "cell_type": "code",
      "source": [
        "original_images =[]\n",
        "changed_images =[]"
      ],
      "metadata": {
        "id": "QGKRXgcTJ-OY"
      },
      "execution_count": 29,
      "outputs": []
    },
    {
      "cell_type": "code",
      "source": [
        "for im in os.listdir(dir_path):\n",
        "\n",
        "  img = cv.imread(dir_path+im,1)\n",
        "  original_images.append(img)\n",
        "\n",
        "  # Extract H, S, V components from RGB image\n",
        "  H, S, V = extract_HSV(img)\n",
        "\n",
        "  # Apply lifting DWT to S and V components\n",
        "  coeffs_S = lifting_dwt2(S, wavelet)\n",
        "  coeffs_V = lifting_dwt2(V, wavelet)\n",
        "\n",
        "  # Apply lifting DWT to S and V components\n",
        "  LL_S, LH_S, HL_S, HH_S = lifting_dwt2(S, wavelet)\n",
        "  LL_V, LH_V, HL_V, HH_V = lifting_dwt2(V, wavelet)\n",
        "\n",
        "  # Resize LL bands to match the original image size\n",
        "  resized_LL_S = resize_LL(LL_S, image.shape)\n",
        "  resized_LL_V = resize_LL(LL_V, image.shape)\n",
        "\n",
        "  # Apply linear contrast stretching to LL bands\n",
        "  stretched_LL_S = linear_contrast_stretching(resized_LL_S)\n",
        "  stretched_LL_V = linear_contrast_stretching(resized_LL_V)\n",
        "\n",
        "  # Apply Laplacian edge detection to stretched LL bands\n",
        "  edges_LL_S = laplacian_edge_detection(stretched_LL_S)\n",
        "  edges_LL_V = laplacian_edge_detection(stretched_LL_V)\n",
        "\n",
        "  # Perform image sharpening by subtracting Laplacian edges from original image\n",
        "  sharpened_LL_S = image_sharpening(resized_LL_S, edges_LL_S)\n",
        "  sharpened_LL_V = image_sharpening(resized_LL_V, edges_LL_V)\n",
        "\n",
        "  # Resize LL bands to match the original image size\n",
        "  LL_S_new = resize_LL(sharpened_LL_S, LL_S.shape)\n",
        "  LL_V_new = resize_LL(sharpened_LL_V, LL_V.shape)\n",
        "\n",
        "  # Reconstruct S and V components using inverse lifting DWT\n",
        "  reconstructed_S = reconstruct_image(LL_S_new, LH_S, HL_S, HH_S, wavelet)\n",
        "  reconstructed_V = reconstruct_image(LL_V_new, LH_V, HL_V, HH_V, wavelet)\n",
        "\n",
        "  reconstructed_hsv_image = combine_HSV(H, reconstructed_S, reconstructed_V)\n",
        "  out_img = cv2.cvtColor(reconstructed_hsv_image.astype('uint8'), cv2.COLOR_HSV2BGR)\n",
        "  changed_images.append(out_img)\n",
        "\n",
        "  # Save the output image to the output folder\n",
        "  output_image_path = os.path.join(output_path, im)\n",
        "  cv.imwrite(output_image_path, out_img)"
      ],
      "metadata": {
        "id": "STT4QYjhJjIn"
      },
      "execution_count": 30,
      "outputs": []
    }
  ]
}